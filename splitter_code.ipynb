{
 "cells": [
  {
   "cell_type": "markdown",
   "metadata": {},
   "source": [
    "### Deliverable 1: Preprocessing the Data for a Neural Network"
   ]
  },
  {
   "cell_type": "code",
   "execution_count": 1,
   "metadata": {},
   "outputs": [],
   "source": [
    "# Import our dependencies\n",
    "from sklearn.model_selection import train_test_split\n",
    "import pandas as pd\n",
    "\n",
    "#  Import and read the charity_data.csv.\n",
    "application_df = pd.read_csv(\"charity_data.csv\")\n",
    "application_df.head()\n",
    "\n",
    "# Drop the non-beneficial ID columns, 'EIN' and 'NAME'.\n",
    "# also, I'm dropping ask amount because it's numeric, and I'm dropping income amount just because it has 9 options, and that's a lot combinatorially.\n",
    "# I could partition the income amount into \"other\", but I just didn't want to take the time\n",
    "application_df=application_df.drop(['EIN', 'NAME','ASK_AMT','INCOME_AMT'], axis=1)\n",
    "\n",
    "# Determine which values to replace if counts are less than ...?\n",
    "replace_application = list(application_df['APPLICATION_TYPE'].value_counts().loc[application_df['APPLICATION_TYPE'].value_counts() < 1100].index)\n",
    "\n",
    "# Replace in dataframe\n",
    "for app in replace_application:\n",
    "    application_df.APPLICATION_TYPE = application_df.APPLICATION_TYPE.replace(app,\"Other\")\n",
    "    \n",
    "# Determine which values to replace if counts are less than ..?\n",
    "replace_class = list(application_df['CLASSIFICATION'].value_counts().loc[application_df['CLASSIFICATION'].value_counts() < 1900].index)\n",
    "\n",
    "# Replace in dataframe\n",
    "for cls in replace_class:\n",
    "    application_df.CLASSIFICATION = application_df.CLASSIFICATION.replace(cls,\"Other\")\n"
   ]
  },
  {
   "cell_type": "code",
   "execution_count": 7,
   "metadata": {},
   "outputs": [
    {
     "ename": "ImportError",
     "evalue": "cannot import name 'plot_stuff' from 'helper_functions' (/Users/grantsmith/Downloads/Neural_Network_Charity_Analysis-main/helper_functions.py)",
     "output_type": "error",
     "traceback": [
      "\u001b[0;31m---------------------------------------------------------------------------\u001b[0m",
      "\u001b[0;31mImportError\u001b[0m                               Traceback (most recent call last)",
      "\u001b[0;32m<ipython-input-7-0e258a6b83c6>\u001b[0m in \u001b[0;36m<module>\u001b[0;34m\u001b[0m\n\u001b[0;32m----> 1\u001b[0;31m \u001b[0;32mfrom\u001b[0m \u001b[0mhelper_functions\u001b[0m \u001b[0;32mimport\u001b[0m \u001b[0mpredict_row\u001b[0m\u001b[0;34m,\u001b[0m \u001b[0mchoose\u001b[0m\u001b[0;34m,\u001b[0m \u001b[0mdo_the_split\u001b[0m\u001b[0;34m,\u001b[0m \u001b[0mplot_stuff\u001b[0m\u001b[0;34m\u001b[0m\u001b[0;34m\u001b[0m\u001b[0m\n\u001b[0m\u001b[1;32m      2\u001b[0m \u001b[0;32mfrom\u001b[0m \u001b[0msklearn\u001b[0m\u001b[0;34m.\u001b[0m\u001b[0mmetrics\u001b[0m \u001b[0;32mimport\u001b[0m \u001b[0maccuracy_score\u001b[0m\u001b[0;34m\u001b[0m\u001b[0;34m\u001b[0m\u001b[0m\n\u001b[1;32m      3\u001b[0m \u001b[0;34m\u001b[0m\u001b[0m\n\u001b[1;32m      4\u001b[0m \u001b[0;31m# Split the preprocessed data into a training and testing dataset\u001b[0m\u001b[0;34m\u001b[0m\u001b[0;34m\u001b[0m\u001b[0;34m\u001b[0m\u001b[0m\n\u001b[1;32m      5\u001b[0m all_train, all_test = train_test_split(\n",
      "\u001b[0;31mImportError\u001b[0m: cannot import name 'plot_stuff' from 'helper_functions' (/Users/grantsmith/Downloads/Neural_Network_Charity_Analysis-main/helper_functions.py)"
     ]
    }
   ],
   "source": [
    "\n",
    "from helper_functions import predict_row, choose, do_the_split, plot_stuff\n",
    "from sklearn.metrics import accuracy_score\n",
    "\n",
    "# Split the preprocessed data into a training and testing dataset\n",
    "all_train, all_test = train_test_split(\n",
    "    application_df,  test_size=0.33)\n",
    "\n",
    "depth = 2\n",
    "\n",
    "metadata = do_the_split(all_train,0,depth,'IS_SUCCESSFUL')\n",
    "\n",
    "\n",
    "\n",
    "# import pandas as pd\n",
    "# small_df = pd.DataFrame({\n",
    "#     'a':[0,0,0,0,1,1,1,1],\n",
    "#     'b':[0,0,1,1,0,0,1,1],\n",
    "#     'c':[0,1,0,1,0,1,0,1],\n",
    "#     'y':[1,0,0,1,0,0,0,1],\n",
    "# })\n",
    "#metadata = do_the_split(small_df,0,4,'y')\n",
    "\n",
    "#small_df['pred']=[choose(predict_row(small_df.iloc[i],metadata)) for i in range(len(small_df.index))]\n",
    "\n",
    "#accuracy_score(small_df['y'],small_df['pred'])\n",
    "\n",
    "import matplotlib.pyplot as plt\n",
    "\n",
    "ys= all_train['IS_SUCCESSFUL'].value_counts().sort_index()\n",
    "ys_in = metadata['ys_in']\n",
    "ys_out = metadata['ys_out']\n",
    "ys_in_in = metadata['next_split_in']['ys_in']\n",
    "ys_in_out = metadata['next_split_in']['ys_out']\n",
    "ys_out_in = metadata['next_split_out']['ys_in']\n",
    "ys_out_out = metadata['next_split_out']['ys_out']\n",
    "\n",
    "plt.bar(ys.index,ys)\n",
    "\n",
    "ys_list = plot_stuff(0,depth,[],metadata)\n",
    "\n",
    "i = 2\n",
    "\n",
    "for ys in ys_list:\n",
    "    plt.bar([i,i+1],[ys[0],ys[1]])\n",
    "    i = i + 2\n",
    "\n",
    "plt.show()\n",
    "\n"
   ]
  },
  {
   "cell_type": "code",
   "execution_count": null,
   "metadata": {},
   "outputs": [],
   "source": []
  }
 ],
 "metadata": {
  "interpreter": {
   "hash": "41a317ca5e76aca7a7230c6db57aa354af1dd8e838a2f47bd4985e9008a5ad81"
  },
  "kernelspec": {
   "display_name": "PythonData",
   "language": "python",
   "name": "python3"
  },
  "language_info": {
   "codemirror_mode": {
    "name": "ipython",
    "version": 3
   },
   "file_extension": ".py",
   "mimetype": "text/x-python",
   "name": "python",
   "nbconvert_exporter": "python",
   "pygments_lexer": "ipython3",
   "version": "3.8.3"
  }
 },
 "nbformat": 4,
 "nbformat_minor": 2
}
